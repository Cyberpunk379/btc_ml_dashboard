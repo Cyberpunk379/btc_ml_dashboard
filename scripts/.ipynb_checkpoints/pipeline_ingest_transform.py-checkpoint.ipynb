{
 "cells": [
  {
   "cell_type": "code",
   "execution_count": 8,
   "id": "79444b0b",
   "metadata": {
    "scrolled": true
   },
   "outputs": [
    {
     "name": "stdout",
     "output_type": "stream",
     "text": [
      "Collecting yfinance\n",
      "  Downloading yfinance-0.2.62-py2.py3-none-any.whl.metadata (5.8 kB)\n",
      "Requirement already satisfied: pandas>=1.3.0 in ./opt/anaconda3/lib/python3.9/site-packages (from yfinance) (1.5.3)\n",
      "Requirement already satisfied: numpy>=1.16.5 in ./opt/anaconda3/lib/python3.9/site-packages (from yfinance) (1.26.4)\n",
      "Requirement already satisfied: requests>=2.31 in ./opt/anaconda3/lib/python3.9/site-packages (from yfinance) (2.31.0)\n",
      "Collecting multitasking>=0.0.7 (from yfinance)\n",
      "  Downloading multitasking-0.0.11-py3-none-any.whl.metadata (5.5 kB)\n",
      "Requirement already satisfied: platformdirs>=2.0.0 in ./opt/anaconda3/lib/python3.9/site-packages (from yfinance) (3.10.0)\n",
      "Requirement already satisfied: pytz>=2022.5 in ./opt/anaconda3/lib/python3.9/site-packages (from yfinance) (2023.3.post1)\n",
      "Collecting frozendict>=2.3.4 (from yfinance)\n",
      "  Downloading frozendict-2.4.6-cp39-cp39-macosx_10_9_x86_64.whl.metadata (23 kB)\n",
      "Collecting peewee>=3.16.2 (from yfinance)\n",
      "  Downloading peewee-3.18.1.tar.gz (3.0 MB)\n",
      "\u001b[2K     \u001b[90m━━━━━━━━━━━━━━━━━━━━━━━━━━━━━━━━━━━━━━━━\u001b[0m \u001b[32m3.0/3.0 MB\u001b[0m \u001b[31m24.8 MB/s\u001b[0m eta \u001b[36m0:00:00\u001b[0m00:01\u001b[0m00:01\u001b[0m\n",
      "\u001b[?25h  Installing build dependencies ... \u001b[?25ldone\n",
      "\u001b[?25h  Getting requirements to build wheel ... \u001b[?25ldone\n",
      "\u001b[?25h  Preparing metadata (pyproject.toml) ... \u001b[?25ldone\n",
      "\u001b[?25hRequirement already satisfied: beautifulsoup4>=4.11.1 in ./opt/anaconda3/lib/python3.9/site-packages (from yfinance) (4.12.2)\n",
      "Collecting curl_cffi>=0.7 (from yfinance)\n",
      "  Downloading curl_cffi-0.11.3-cp39-abi3-macosx_10_9_x86_64.whl.metadata (14 kB)\n",
      "Requirement already satisfied: protobuf>=3.19.0 in ./opt/anaconda3/lib/python3.9/site-packages (from yfinance) (5.26.1)\n",
      "Collecting websockets>=13.0 (from yfinance)\n",
      "  Downloading websockets-15.0.1-cp39-cp39-macosx_10_9_x86_64.whl.metadata (6.8 kB)\n",
      "Requirement already satisfied: soupsieve>1.2 in ./opt/anaconda3/lib/python3.9/site-packages (from beautifulsoup4>=4.11.1->yfinance) (2.5)\n",
      "Requirement already satisfied: cffi>=1.12.0 in ./opt/anaconda3/lib/python3.9/site-packages (from curl_cffi>=0.7->yfinance) (1.15.0)\n",
      "Requirement already satisfied: certifi>=2024.2.2 in ./opt/anaconda3/lib/python3.9/site-packages (from curl_cffi>=0.7->yfinance) (2024.2.2)\n",
      "Requirement already satisfied: python-dateutil>=2.8.1 in ./opt/anaconda3/lib/python3.9/site-packages (from pandas>=1.3.0->yfinance) (2.8.2)\n",
      "Requirement already satisfied: charset-normalizer<4,>=2 in ./opt/anaconda3/lib/python3.9/site-packages (from requests>=2.31->yfinance) (2.0.4)\n",
      "Requirement already satisfied: idna<4,>=2.5 in ./opt/anaconda3/lib/python3.9/site-packages (from requests>=2.31->yfinance) (3.4)\n",
      "Requirement already satisfied: urllib3<3,>=1.21.1 in ./opt/anaconda3/lib/python3.9/site-packages (from requests>=2.31->yfinance) (1.26.18)\n",
      "Requirement already satisfied: pycparser in ./opt/anaconda3/lib/python3.9/site-packages (from cffi>=1.12.0->curl_cffi>=0.7->yfinance) (2.21)\n",
      "Requirement already satisfied: six>=1.5 in ./opt/anaconda3/lib/python3.9/site-packages (from python-dateutil>=2.8.1->pandas>=1.3.0->yfinance) (1.16.0)\n",
      "Downloading yfinance-0.2.62-py2.py3-none-any.whl (118 kB)\n",
      "\u001b[2K   \u001b[90m━━━━━━━━━━━━━━━━━━━━━━━━━━━━━━━━━━━━━━━━\u001b[0m \u001b[32m118.4/118.4 kB\u001b[0m \u001b[31m15.9 MB/s\u001b[0m eta \u001b[36m0:00:00\u001b[0m\n",
      "\u001b[?25hDownloading curl_cffi-0.11.3-cp39-abi3-macosx_10_9_x86_64.whl (5.7 MB)\n",
      "\u001b[2K   \u001b[90m━━━━━━━━━━━━━━━━━━━━━━━━━━━━━━━━━━━━━━━━\u001b[0m \u001b[32m5.7/5.7 MB\u001b[0m \u001b[31m38.2 MB/s\u001b[0m eta \u001b[36m0:00:00\u001b[0m00:01\u001b[0m00:01\u001b[0m\n",
      "\u001b[?25hDownloading frozendict-2.4.6-cp39-cp39-macosx_10_9_x86_64.whl (38 kB)\n",
      "Downloading multitasking-0.0.11-py3-none-any.whl (8.5 kB)\n",
      "Downloading websockets-15.0.1-cp39-cp39-macosx_10_9_x86_64.whl (173 kB)\n",
      "\u001b[2K   \u001b[90m━━━━━━━━━━━━━━━━━━━━━━━━━━━━━━━━━━━━━━━━\u001b[0m \u001b[32m173.1/173.1 kB\u001b[0m \u001b[31m18.4 MB/s\u001b[0m eta \u001b[36m0:00:00\u001b[0m\n",
      "\u001b[?25hBuilding wheels for collected packages: peewee\n",
      "  Building wheel for peewee (pyproject.toml) ... \u001b[?25ldone\n",
      "\u001b[?25h  Created wheel for peewee: filename=peewee-3.18.1-cp39-cp39-macosx_10_9_x86_64.whl size=271660 sha256=631f161f9f72aa30fbc34ecad78ab0f8c27ec0a026cce3bc3ab8c0c0158ea2ca\n",
      "  Stored in directory: /Users/badboihy/Library/Caches/pip/wheels/e7/09/87/1f1a87eb25af98d0a1f60ef184a9779d81c6a2e8d28bc67d7f\n",
      "Successfully built peewee\n",
      "Installing collected packages: peewee, multitasking, websockets, frozendict, curl_cffi, yfinance\n",
      "Successfully installed curl_cffi-0.11.3 frozendict-2.4.6 multitasking-0.0.11 peewee-3.18.1 websockets-15.0.1 yfinance-0.2.62\n",
      "Note: you may need to restart the kernel to use updated packages.\n"
     ]
    }
   ],
   "source": [
    "pip install yfinance"
   ]
  },
  {
   "cell_type": "code",
   "execution_count": 9,
   "id": "77e954ea",
   "metadata": {
    "code_folding": []
   },
   "outputs": [
    {
     "data": {
      "text/html": [
       "<div>\n",
       "<style scoped>\n",
       "    .dataframe tbody tr th:only-of-type {\n",
       "        vertical-align: middle;\n",
       "    }\n",
       "\n",
       "    .dataframe tbody tr th {\n",
       "        vertical-align: top;\n",
       "    }\n",
       "\n",
       "    .dataframe thead th {\n",
       "        text-align: right;\n",
       "    }\n",
       "</style>\n",
       "<table border=\"1\" class=\"dataframe\">\n",
       "  <thead>\n",
       "    <tr style=\"text-align: right;\">\n",
       "      <th></th>\n",
       "      <th>Open</th>\n",
       "      <th>High</th>\n",
       "      <th>Low</th>\n",
       "      <th>Close</th>\n",
       "      <th>Volume</th>\n",
       "      <th>Dividends</th>\n",
       "      <th>Stock Splits</th>\n",
       "    </tr>\n",
       "    <tr>\n",
       "      <th>Datetime</th>\n",
       "      <th></th>\n",
       "      <th></th>\n",
       "      <th></th>\n",
       "      <th></th>\n",
       "      <th></th>\n",
       "      <th></th>\n",
       "      <th></th>\n",
       "    </tr>\n",
       "  </thead>\n",
       "  <tbody>\n",
       "    <tr>\n",
       "      <th>2025-06-05 17:00:00</th>\n",
       "      <td>101543.820312</td>\n",
       "      <td>101946.796875</td>\n",
       "      <td>101272.953125</td>\n",
       "      <td>101938.398438</td>\n",
       "      <td>0</td>\n",
       "      <td>0.0</td>\n",
       "      <td>0.0</td>\n",
       "    </tr>\n",
       "    <tr>\n",
       "      <th>2025-06-05 18:00:00</th>\n",
       "      <td>101942.828125</td>\n",
       "      <td>101980.148438</td>\n",
       "      <td>101749.367188</td>\n",
       "      <td>101896.617188</td>\n",
       "      <td>1228824576</td>\n",
       "      <td>0.0</td>\n",
       "      <td>0.0</td>\n",
       "    </tr>\n",
       "    <tr>\n",
       "      <th>2025-06-05 19:00:00</th>\n",
       "      <td>101895.476562</td>\n",
       "      <td>102145.343750</td>\n",
       "      <td>101600.515625</td>\n",
       "      <td>102144.085938</td>\n",
       "      <td>0</td>\n",
       "      <td>0.0</td>\n",
       "      <td>0.0</td>\n",
       "    </tr>\n",
       "    <tr>\n",
       "      <th>2025-06-05 20:00:00</th>\n",
       "      <td>102228.851562</td>\n",
       "      <td>102569.187500</td>\n",
       "      <td>102108.679688</td>\n",
       "      <td>102546.695312</td>\n",
       "      <td>1080938496</td>\n",
       "      <td>0.0</td>\n",
       "      <td>0.0</td>\n",
       "    </tr>\n",
       "    <tr>\n",
       "      <th>2025-06-05 21:00:00</th>\n",
       "      <td>102551.664062</td>\n",
       "      <td>102835.273438</td>\n",
       "      <td>102462.898438</td>\n",
       "      <td>102817.234375</td>\n",
       "      <td>0</td>\n",
       "      <td>0.0</td>\n",
       "      <td>0.0</td>\n",
       "    </tr>\n",
       "  </tbody>\n",
       "</table>\n",
       "</div>"
      ],
      "text/plain": [
       "                              Open           High            Low  \\\n",
       "Datetime                                                           \n",
       "2025-06-05 17:00:00  101543.820312  101946.796875  101272.953125   \n",
       "2025-06-05 18:00:00  101942.828125  101980.148438  101749.367188   \n",
       "2025-06-05 19:00:00  101895.476562  102145.343750  101600.515625   \n",
       "2025-06-05 20:00:00  102228.851562  102569.187500  102108.679688   \n",
       "2025-06-05 21:00:00  102551.664062  102835.273438  102462.898438   \n",
       "\n",
       "                             Close      Volume  Dividends  Stock Splits  \n",
       "Datetime                                                                 \n",
       "2025-06-05 17:00:00  101938.398438           0        0.0           0.0  \n",
       "2025-06-05 18:00:00  101896.617188  1228824576        0.0           0.0  \n",
       "2025-06-05 19:00:00  102144.085938           0        0.0           0.0  \n",
       "2025-06-05 20:00:00  102546.695312  1080938496        0.0           0.0  \n",
       "2025-06-05 21:00:00  102817.234375           0        0.0           0.0  "
      ]
     },
     "execution_count": 9,
     "metadata": {},
     "output_type": "execute_result"
    }
   ],
   "source": [
    "# pipeline injestion_transform.py\n",
    "\n",
    "import yfinance as yf\n",
    "import pandas as pd\n",
    "\n",
    "# Step 1: Fetch data from Yahoo Finance \n",
    "btc = yf.Ticker(\"BTC-USD\")\n",
    "hist = btc.history(interval= '1h', period= '7d') # 7days of hourly data\n",
    "\n",
    "# Convert index from UTC to local time (e.g., US/Pacific)\n",
    "hist.index = hist.index.tz_convert('US/Pacific').tz_localize(None)\n",
    "\n",
    "hist.head()"
   ]
  },
  {
   "cell_type": "code",
   "execution_count": 10,
   "id": "645344fe",
   "metadata": {},
   "outputs": [
    {
     "name": "stderr",
     "output_type": "stream",
     "text": [
      "/var/folders/zh/n835cjwn06s8mgkq7j7c8hj80000gn/T/ipykernel_43613/3897577257.py:4: SettingWithCopyWarning: \n",
      "A value is trying to be set on a copy of a slice from a DataFrame\n",
      "\n",
      "See the caveats in the documentation: https://pandas.pydata.org/pandas-docs/stable/user_guide/indexing.html#returning-a-view-versus-a-copy\n",
      "  btc.rename(columns={\"Datetime\": \"timestamp\", \"Close\" : \"price\"}, inplace=True)\n"
     ]
    },
    {
     "data": {
      "text/html": [
       "<div>\n",
       "<style scoped>\n",
       "    .dataframe tbody tr th:only-of-type {\n",
       "        vertical-align: middle;\n",
       "    }\n",
       "\n",
       "    .dataframe tbody tr th {\n",
       "        vertical-align: top;\n",
       "    }\n",
       "\n",
       "    .dataframe thead th {\n",
       "        text-align: right;\n",
       "    }\n",
       "</style>\n",
       "<table border=\"1\" class=\"dataframe\">\n",
       "  <thead>\n",
       "    <tr style=\"text-align: right;\">\n",
       "      <th></th>\n",
       "      <th>price</th>\n",
       "    </tr>\n",
       "    <tr>\n",
       "      <th>timestamp</th>\n",
       "      <th></th>\n",
       "    </tr>\n",
       "  </thead>\n",
       "  <tbody>\n",
       "    <tr>\n",
       "      <th>2025-06-05 17:00:00</th>\n",
       "      <td>101938.398438</td>\n",
       "    </tr>\n",
       "    <tr>\n",
       "      <th>2025-06-05 18:00:00</th>\n",
       "      <td>101896.617188</td>\n",
       "    </tr>\n",
       "    <tr>\n",
       "      <th>2025-06-05 19:00:00</th>\n",
       "      <td>102144.085938</td>\n",
       "    </tr>\n",
       "    <tr>\n",
       "      <th>2025-06-05 20:00:00</th>\n",
       "      <td>102546.695312</td>\n",
       "    </tr>\n",
       "    <tr>\n",
       "      <th>2025-06-05 21:00:00</th>\n",
       "      <td>102817.234375</td>\n",
       "    </tr>\n",
       "  </tbody>\n",
       "</table>\n",
       "</div>"
      ],
      "text/plain": [
       "                             price\n",
       "timestamp                         \n",
       "2025-06-05 17:00:00  101938.398438\n",
       "2025-06-05 18:00:00  101896.617188\n",
       "2025-06-05 19:00:00  102144.085938\n",
       "2025-06-05 20:00:00  102546.695312\n",
       "2025-06-05 21:00:00  102817.234375"
      ]
     },
     "execution_count": 10,
     "metadata": {},
     "output_type": "execute_result"
    }
   ],
   "source": [
    "# Reset and rename\n",
    "hist = hist.reset_index()\n",
    "btc = hist[[\"Datetime\", \"Close\"]]\n",
    "btc.rename(columns={\"Datetime\": \"timestamp\", \"Close\" : \"price\"}, inplace=True)\n",
    "btc.set_index(\"timestamp\", inplace=True)\n",
    "\n",
    "btc.head()"
   ]
  },
  {
   "cell_type": "code",
   "execution_count": 11,
   "id": "3db05f85",
   "metadata": {
    "scrolled": true
   },
   "outputs": [
    {
     "name": "stdout",
     "output_type": "stream",
     "text": [
      "✅ BTC hourly price saved to btc_hourly_yf.csv\n"
     ]
    }
   ],
   "source": [
    "btc.to_csv(\"btc_hourly_yf.csv\")\n",
    "print(\"✅ BTC hourly price saved to btc_hourly_yf.csv\")"
   ]
  },
  {
   "cell_type": "code",
   "execution_count": 12,
   "id": "9da3bbd7",
   "metadata": {
    "scrolled": false
   },
   "outputs": [
    {
     "data": {
      "text/html": [
       "<div>\n",
       "<style scoped>\n",
       "    .dataframe tbody tr th:only-of-type {\n",
       "        vertical-align: middle;\n",
       "    }\n",
       "\n",
       "    .dataframe tbody tr th {\n",
       "        vertical-align: top;\n",
       "    }\n",
       "\n",
       "    .dataframe thead th {\n",
       "        text-align: right;\n",
       "    }\n",
       "</style>\n",
       "<table border=\"1\" class=\"dataframe\">\n",
       "  <thead>\n",
       "    <tr style=\"text-align: right;\">\n",
       "      <th></th>\n",
       "      <th>price</th>\n",
       "    </tr>\n",
       "    <tr>\n",
       "      <th>timestamp</th>\n",
       "      <th></th>\n",
       "    </tr>\n",
       "  </thead>\n",
       "  <tbody>\n",
       "    <tr>\n",
       "      <th>2025-06-12 02:00:00</th>\n",
       "      <td>107529.992188</td>\n",
       "    </tr>\n",
       "    <tr>\n",
       "      <th>2025-06-12 03:00:00</th>\n",
       "      <td>107310.179688</td>\n",
       "    </tr>\n",
       "    <tr>\n",
       "      <th>2025-06-12 04:00:00</th>\n",
       "      <td>106926.750000</td>\n",
       "    </tr>\n",
       "    <tr>\n",
       "      <th>2025-06-12 05:00:00</th>\n",
       "      <td>106977.468750</td>\n",
       "    </tr>\n",
       "    <tr>\n",
       "      <th>2025-06-12 06:00:00</th>\n",
       "      <td>106839.140625</td>\n",
       "    </tr>\n",
       "  </tbody>\n",
       "</table>\n",
       "</div>"
      ],
      "text/plain": [
       "                             price\n",
       "timestamp                         \n",
       "2025-06-12 02:00:00  107529.992188\n",
       "2025-06-12 03:00:00  107310.179688\n",
       "2025-06-12 04:00:00  106926.750000\n",
       "2025-06-12 05:00:00  106977.468750\n",
       "2025-06-12 06:00:00  106839.140625"
      ]
     },
     "execution_count": 12,
     "metadata": {},
     "output_type": "execute_result"
    }
   ],
   "source": [
    "btc.tail()"
   ]
  },
  {
   "cell_type": "code",
   "execution_count": null,
   "id": "474279fb",
   "metadata": {},
   "outputs": [],
   "source": []
  },
  {
   "cell_type": "code",
   "execution_count": null,
   "id": "951e74a5",
   "metadata": {},
   "outputs": [],
   "source": []
  }
 ],
 "metadata": {
  "kernelspec": {
   "display_name": "Python 3 (ipykernel)",
   "language": "python",
   "name": "python3"
  },
  "language_info": {
   "codemirror_mode": {
    "name": "ipython",
    "version": 3
   },
   "file_extension": ".py",
   "mimetype": "text/x-python",
   "name": "python",
   "nbconvert_exporter": "python",
   "pygments_lexer": "ipython3",
   "version": "3.9.12"
  },
  "toc": {
   "base_numbering": 1,
   "nav_menu": {},
   "number_sections": true,
   "sideBar": true,
   "skip_h1_title": false,
   "title_cell": "Table of Contents",
   "title_sidebar": "Contents",
   "toc_cell": false,
   "toc_position": {},
   "toc_section_display": true,
   "toc_window_display": false
  },
  "varInspector": {
   "cols": {
    "lenName": 16,
    "lenType": 16,
    "lenVar": 40
   },
   "kernels_config": {
    "python": {
     "delete_cmd_postfix": "",
     "delete_cmd_prefix": "del ",
     "library": "var_list.py",
     "varRefreshCmd": "print(var_dic_list())"
    },
    "r": {
     "delete_cmd_postfix": ") ",
     "delete_cmd_prefix": "rm(",
     "library": "var_list.r",
     "varRefreshCmd": "cat(var_dic_list()) "
    }
   },
   "types_to_exclude": [
    "module",
    "function",
    "builtin_function_or_method",
    "instance",
    "_Feature"
   ],
   "window_display": false
  }
 },
 "nbformat": 4,
 "nbformat_minor": 5
}
