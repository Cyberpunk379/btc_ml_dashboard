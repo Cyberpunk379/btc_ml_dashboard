{
 "cells": [
  {
   "cell_type": "markdown",
   "id": "a1580b6f",
   "metadata": {},
   "source": [
    "# Regression"
   ]
  },
  {
   "cell_type": "code",
   "execution_count": 56,
   "id": "79fa0941",
   "metadata": {},
   "outputs": [],
   "source": [
    "from pathlib import Path\n",
    "import pandas as pd\n",
    "from sklearn.model_selection import train_test_split, GridSearchCV\n",
    "from sklearn.linear_model import Ridge, Lasso\n",
    "from sklearn.metrics import mean_squared_error, mean_absolute_error, r2_score\n",
    "from xgboost import XGBRegressor\n",
    "import joblib"
   ]
  },
  {
   "cell_type": "code",
   "execution_count": 57,
   "id": "ff638f90",
   "metadata": {},
   "outputs": [],
   "source": [
    "# --- Safe path for GitHub or Streamlit deployment ---\n",
    "BASE_DIR = Path().resolve().parent  # adjust `.parent` depending on notebook location\n",
    "DATA_PATH = BASE_DIR / \"data\"\n",
    "MODEL_PATH = BASE_DIR / \"models\"\n",
    "DATA_PATH.mkdir(exist_ok=True)\n",
    "MODEL_PATH.mkdir(exist_ok=True)"
   ]
  },
  {
   "cell_type": "code",
   "execution_count": 58,
   "id": "24c92757",
   "metadata": {},
   "outputs": [
    {
     "data": {
      "text/html": [
       "<div>\n",
       "<style scoped>\n",
       "    .dataframe tbody tr th:only-of-type {\n",
       "        vertical-align: middle;\n",
       "    }\n",
       "\n",
       "    .dataframe tbody tr th {\n",
       "        vertical-align: top;\n",
       "    }\n",
       "\n",
       "    .dataframe thead th {\n",
       "        text-align: right;\n",
       "    }\n",
       "</style>\n",
       "<table border=\"1\" class=\"dataframe\">\n",
       "  <thead>\n",
       "    <tr style=\"text-align: right;\">\n",
       "      <th></th>\n",
       "      <th>timestamp</th>\n",
       "      <th>price</th>\n",
       "      <th>return_1h</th>\n",
       "      <th>rolling_mean_3h</th>\n",
       "      <th>rolling_mean_6h</th>\n",
       "      <th>rolling_std_3h</th>\n",
       "      <th>future_price</th>\n",
       "      <th>target</th>\n",
       "    </tr>\n",
       "  </thead>\n",
       "  <tbody>\n",
       "    <tr>\n",
       "      <th>156</th>\n",
       "      <td>2025-06-14 10:00:00</td>\n",
       "      <td>104657.304688</td>\n",
       "      <td>0.001559</td>\n",
       "      <td>104672.854167</td>\n",
       "      <td>104853.514323</td>\n",
       "      <td>186.701119</td>\n",
       "      <td>104915.703125</td>\n",
       "      <td>104915.703125</td>\n",
       "    </tr>\n",
       "    <tr>\n",
       "      <th>157</th>\n",
       "      <td>2025-06-14 11:00:00</td>\n",
       "      <td>104915.703125</td>\n",
       "      <td>0.002469</td>\n",
       "      <td>104689.140625</td>\n",
       "      <td>104828.365885</td>\n",
       "      <td>212.441201</td>\n",
       "      <td>104736.453125</td>\n",
       "      <td>104736.453125</td>\n",
       "    </tr>\n",
       "    <tr>\n",
       "      <th>158</th>\n",
       "      <td>2025-06-14 12:00:00</td>\n",
       "      <td>104736.453125</td>\n",
       "      <td>-0.001709</td>\n",
       "      <td>104769.820312</td>\n",
       "      <td>104772.953125</td>\n",
       "      <td>132.391333</td>\n",
       "      <td>104908.320312</td>\n",
       "      <td>104908.320312</td>\n",
       "    </tr>\n",
       "    <tr>\n",
       "      <th>159</th>\n",
       "      <td>2025-06-14 13:00:00</td>\n",
       "      <td>104908.320312</td>\n",
       "      <td>0.001641</td>\n",
       "      <td>104853.492188</td>\n",
       "      <td>104763.173177</td>\n",
       "      <td>101.425998</td>\n",
       "      <td>105445.156250</td>\n",
       "      <td>105445.156250</td>\n",
       "    </tr>\n",
       "    <tr>\n",
       "      <th>160</th>\n",
       "      <td>2025-06-14 14:00:00</td>\n",
       "      <td>105445.156250</td>\n",
       "      <td>0.005117</td>\n",
       "      <td>105029.976562</td>\n",
       "      <td>104859.558594</td>\n",
       "      <td>369.682583</td>\n",
       "      <td>105513.789062</td>\n",
       "      <td>105513.789062</td>\n",
       "    </tr>\n",
       "  </tbody>\n",
       "</table>\n",
       "</div>"
      ],
      "text/plain": [
       "              timestamp          price  return_1h  rolling_mean_3h  \\\n",
       "156 2025-06-14 10:00:00  104657.304688   0.001559    104672.854167   \n",
       "157 2025-06-14 11:00:00  104915.703125   0.002469    104689.140625   \n",
       "158 2025-06-14 12:00:00  104736.453125  -0.001709    104769.820312   \n",
       "159 2025-06-14 13:00:00  104908.320312   0.001641    104853.492188   \n",
       "160 2025-06-14 14:00:00  105445.156250   0.005117    105029.976562   \n",
       "\n",
       "     rolling_mean_6h  rolling_std_3h   future_price         target  \n",
       "156    104853.514323      186.701119  104915.703125  104915.703125  \n",
       "157    104828.365885      212.441201  104736.453125  104736.453125  \n",
       "158    104772.953125      132.391333  104908.320312  104908.320312  \n",
       "159    104763.173177      101.425998  105445.156250  105445.156250  \n",
       "160    104859.558594      369.682583  105513.789062  105513.789062  "
      ]
     },
     "execution_count": 58,
     "metadata": {},
     "output_type": "execute_result"
    }
   ],
   "source": [
    "# Step 1: Load Features\n",
    "\n",
    "df = pd.read_csv(DATA_PATH/\"btc_feature.csv\", parse_dates=['timestamp'])\n",
    "\n",
    "# Define target: Future Price\n",
    "df[\"target\"] = df[\"future_price\"]\n",
    "\n",
    "df.tail()"
   ]
  },
  {
   "cell_type": "code",
   "execution_count": 59,
   "id": "ff2e0cc7",
   "metadata": {},
   "outputs": [],
   "source": [
    "# Step 2: Define target: Predict next hour's price\n",
    "df['target'] = df['price'].shift(-1)\n",
    "df.dropna(inplace=True)\n",
    "\n",
    "# Step 3: Feature and Target split\n",
    "X = df.drop(columns=['timestamp', 'target', 'future_price']) # Drop timestamp and target-related\n",
    "y = df['target']\n",
    "\n",
    "# Step 4: Train-Test split\n",
    "X_train, X_test, y_train, y_test = train_test_split(X,y, test_size=0.2, shuffle=False)"
   ]
  },
  {
   "cell_type": "markdown",
   "id": "faea7734",
   "metadata": {},
   "source": [
    "## Ridge"
   ]
  },
  {
   "cell_type": "code",
   "execution_count": 60,
   "id": "2bd2c962",
   "metadata": {},
   "outputs": [
    {
     "name": "stdout",
     "output_type": "stream",
     "text": [
      "✅ Ridge Regression Model Trained.\n",
      "📉 RMSE: 58541.08\n",
      "📈 MAE: 204.32\n",
      "🔁 R² Score: 0.55\n"
     ]
    }
   ],
   "source": [
    "# Ridge Regression\n",
    "ridge = Ridge(alpha=1.0)\n",
    "ridge.fit(X_train, y_train)\n",
    "ridge_preds = ridge.predict(X_test)\n",
    "\n",
    "# Evaluate\n",
    "rmse = mean_squared_error(y_test, ridge_preds)\n",
    "mae = mean_absolute_error(y_test, ridge_preds)\n",
    "r2 = r2_score(y_test, ridge_preds)\n",
    "\n",
    "print(f\"✅ Ridge Regression Model Trained.\")\n",
    "print(f\"📉 RMSE: {rmse:.2f}\")\n",
    "print(f\"📈 MAE: {mae:.2f}\")\n",
    "print(f\"🔁 R² Score: {r2:.2f}\")"
   ]
  },
  {
   "cell_type": "code",
   "execution_count": 61,
   "id": "5b8f9b14",
   "metadata": {},
   "outputs": [],
   "source": [
    "# Save output for dashboard\n",
    "df_result = df.iloc[len(df) - len(y_test):].copy()\n",
    "df_result['predicted_price'] = ridge_preds\n",
    "df_result.to_csv(MODEL_PATH/\"btc_ridge_model.csv\", index=False)"
   ]
  },
  {
   "cell_type": "markdown",
   "id": "37c1cdc1",
   "metadata": {},
   "source": [
    "### Ridge - Tuned"
   ]
  },
  {
   "cell_type": "code",
   "execution_count": 62,
   "id": "939b465c",
   "metadata": {},
   "outputs": [
    {
     "name": "stdout",
     "output_type": "stream",
     "text": [
      "✅ Tuned Ridge Regression\n",
      "Best Params: {'alpha': 10}\n",
      "📉 RMSE: 121510.76\n",
      "📈 MAE: 240.79\n",
      "🔁 R² Score: 0.97\n"
     ]
    }
   ],
   "source": [
    "# Define model and hyperparameter grid\n",
    "ridge = Ridge()\n",
    "params = {\"alpha\": [0.001, 0.01, 0.1, 1, 10, 100]}\n",
    "ridge_grid = GridSearchCV(ridge, params, cv=5)\n",
    "ridge_grid.fit(X, y)\n",
    "\n",
    "# Best model\n",
    "best_ridge = ridge_grid.best_estimator_\n",
    "y_pred = best_ridge.predict(X)\n",
    "\n",
    "# Evaluation\n",
    "rmse = mean_squared_error(y, y_pred)\n",
    "mae = mean_absolute_error(y, y_pred)\n",
    "r2 = r2_score(y, y_pred)\n",
    "\n",
    "print(\"✅ Tuned Ridge Regression\")\n",
    "print(\"Best Params:\", ridge_grid.best_params_)\n",
    "print(f\"📉 RMSE: {rmse:.2f}\")\n",
    "print(f\"📈 MAE: {mae:.2f}\")\n",
    "print(f\"🔁 R² Score: {r2:.2f}\")"
   ]
  },
  {
   "cell_type": "code",
   "execution_count": 63,
   "id": "64f90251",
   "metadata": {},
   "outputs": [
    {
     "data": {
      "text/plain": [
       "['/Users/badboihy/btc_ml_dashboard/models/btc_ridge_tuned.pkl']"
      ]
     },
     "execution_count": 63,
     "metadata": {},
     "output_type": "execute_result"
    }
   ],
   "source": [
    "# Save output for dashboard\n",
    "df_result = df.iloc[len(df) - len(y_test):].copy()\n",
    "df_result['predicted_price'] = y_pred[-len(y_test):]\n",
    "df_result.to_csv(MODEL_PATH/\"btc_ridge_tuned_model.csv\", index=False)\n",
    "\n",
    "# Save best ridge model\n",
    "joblib.dump(best_ridge, MODEL_PATH / \"btc_ridge_tuned.pkl\")"
   ]
  },
  {
   "cell_type": "markdown",
   "id": "7e9a77ac",
   "metadata": {},
   "source": [
    "## Lasso Regressor"
   ]
  },
  {
   "cell_type": "code",
   "execution_count": 64,
   "id": "a30c2c76",
   "metadata": {},
   "outputs": [],
   "source": [
    "# Train Lasso Regressor\n",
    "lasso = Lasso(alpha=1.0)\n",
    "lasso.fit(X_train, y_train)\n",
    "lasso_preds = lasso.predict(X_test)\n"
   ]
  },
  {
   "cell_type": "code",
   "execution_count": 65,
   "id": "0e560011",
   "metadata": {},
   "outputs": [
    {
     "name": "stdout",
     "output_type": "stream",
     "text": [
      "✅ Lasso Regression Model Trained.\n",
      "📉 RMSE: 241.95\n",
      "📈 MAE: 204.32\n",
      "🔁 R² Score: 0.55\n"
     ]
    }
   ],
   "source": [
    "# Evaluate\n",
    "mse = mean_squared_error(y_test, lasso_preds)\n",
    "mae = mean_absolute_error(y_test, lasso_preds)\n",
    "r2 = r2_score(y_test, lasso_preds)\n",
    "\n",
    "print(\"✅ Lasso Regression Model Trained.\")\n",
    "print(f\"📉 RMSE: {mse**0.5:.2f}\")\n",
    "print(f\"📈 MAE: {mae:.2f}\")\n",
    "print(f\"🔁 R² Score: {r2:.2f}\")\n"
   ]
  },
  {
   "cell_type": "code",
   "execution_count": 66,
   "id": "8e2fd814",
   "metadata": {},
   "outputs": [],
   "source": [
    "df_result = df.iloc[-len(y_test):].copy()\n",
    "df_result['predicted_price'] = lasso_preds\n",
    "df_result.to_csv(MODEL_PATH/\"btc_lasso_model.csv\", index=False)\n"
   ]
  },
  {
   "cell_type": "code",
   "execution_count": 67,
   "id": "436fa573",
   "metadata": {},
   "outputs": [
    {
     "data": {
      "text/plain": [
       "['/Users/badboihy/btc_ml_dashboard/models/btc_lasso_model.pkl']"
      ]
     },
     "execution_count": 67,
     "metadata": {},
     "output_type": "execute_result"
    }
   ],
   "source": [
    "# Save lasso model\n",
    "joblib.dump(lasso, MODEL_PATH / \"btc_lasso_model.pkl\")"
   ]
  }
 ],
 "metadata": {
  "kernelspec": {
   "display_name": "streamlit-env",
   "language": "python",
   "name": "python3"
  },
  "language_info": {
   "codemirror_mode": {
    "name": "ipython",
    "version": 3
   },
   "file_extension": ".py",
   "mimetype": "text/x-python",
   "name": "python",
   "nbconvert_exporter": "python",
   "pygments_lexer": "ipython3",
   "version": "3.10.18"
  },
  "toc": {
   "base_numbering": 1,
   "nav_menu": {},
   "number_sections": true,
   "sideBar": true,
   "skip_h1_title": false,
   "title_cell": "Table of Contents",
   "title_sidebar": "Contents",
   "toc_cell": false,
   "toc_position": {},
   "toc_section_display": true,
   "toc_window_display": false
  },
  "varInspector": {
   "cols": {
    "lenName": 16,
    "lenType": 16,
    "lenVar": 40
   },
   "kernels_config": {
    "python": {
     "delete_cmd_postfix": "",
     "delete_cmd_prefix": "del ",
     "library": "var_list.py",
     "varRefreshCmd": "print(var_dic_list())"
    },
    "r": {
     "delete_cmd_postfix": ") ",
     "delete_cmd_prefix": "rm(",
     "library": "var_list.r",
     "varRefreshCmd": "cat(var_dic_list()) "
    }
   },
   "types_to_exclude": [
    "module",
    "function",
    "builtin_function_or_method",
    "instance",
    "_Feature"
   ],
   "window_display": false
  }
 },
 "nbformat": 4,
 "nbformat_minor": 5
}
