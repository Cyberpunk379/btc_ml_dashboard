{
 "cells": [
  {
   "cell_type": "markdown",
   "id": "64111936",
   "metadata": {},
   "source": [
    "# Feature Engineering "
   ]
  },
  {
   "cell_type": "code",
   "execution_count": null,
   "id": "881879d4",
   "metadata": {
    "scrolled": false
   },
   "outputs": [
    {
     "data": {
      "text/html": [
       "<div>\n",
       "<style scoped>\n",
       "    .dataframe tbody tr th:only-of-type {\n",
       "        vertical-align: middle;\n",
       "    }\n",
       "\n",
       "    .dataframe tbody tr th {\n",
       "        vertical-align: top;\n",
       "    }\n",
       "\n",
       "    .dataframe thead th {\n",
       "        text-align: right;\n",
       "    }\n",
       "</style>\n",
       "<table border=\"1\" class=\"dataframe\">\n",
       "  <thead>\n",
       "    <tr style=\"text-align: right;\">\n",
       "      <th></th>\n",
       "      <th>price</th>\n",
       "    </tr>\n",
       "    <tr>\n",
       "      <th>timestamp</th>\n",
       "      <th></th>\n",
       "    </tr>\n",
       "  </thead>\n",
       "  <tbody>\n",
       "    <tr>\n",
       "      <th>2025-06-07 17:00:00</th>\n",
       "      <td>105521.320312</td>\n",
       "    </tr>\n",
       "    <tr>\n",
       "      <th>2025-06-07 18:00:00</th>\n",
       "      <td>105753.312500</td>\n",
       "    </tr>\n",
       "    <tr>\n",
       "      <th>2025-06-07 19:00:00</th>\n",
       "      <td>105540.976562</td>\n",
       "    </tr>\n",
       "    <tr>\n",
       "      <th>2025-06-07 20:00:00</th>\n",
       "      <td>105543.210938</td>\n",
       "    </tr>\n",
       "    <tr>\n",
       "      <th>2025-06-07 21:00:00</th>\n",
       "      <td>105651.523438</td>\n",
       "    </tr>\n",
       "  </tbody>\n",
       "</table>\n",
       "</div>"
      ],
      "text/plain": [
       "                             price\n",
       "timestamp                         \n",
       "2025-06-07 17:00:00  105521.320312\n",
       "2025-06-07 18:00:00  105753.312500\n",
       "2025-06-07 19:00:00  105540.976562\n",
       "2025-06-07 20:00:00  105543.210938\n",
       "2025-06-07 21:00:00  105651.523438"
      ]
     },
     "execution_count": 9,
     "metadata": {},
     "output_type": "execute_result"
    }
   ],
   "source": [
    "from pathlib import Path\n",
    "import pandas as pd\n",
    "\n",
    "\n",
    "# --- Safe path for GitHub or Streamlit deployment ---\n",
    "BASE_DIR = Path().resolve().parent  # adjust `.parent` depending on notebook location\n",
    "DATA_PATH = BASE_DIR / \"data\"\n",
    "MODEL_PATH = BASE_DIR / \"models\"\n",
    "DATA_PATH.mkdir(exist_ok=True)\n",
    "\n",
    "# Step 1: Load Cleaned BTC data\n",
    "df = pd.read_csv(DATA_PATH / \"btc_hourly_yf.csv\", parse_dates=['timestamp'], index_col='timestamp')\n",
    "\n",
    "df.head()"
   ]
  },
  {
   "cell_type": "code",
   "execution_count": 10,
   "id": "5c48ac67",
   "metadata": {},
   "outputs": [],
   "source": [
    "# Step 2: Create lag feaatures\n",
    "df['return_1h'] = df['price'].pct_change()\n",
    "df['rolling_mean_3h'] = df['price'].rolling(window=3).mean()\n",
    "df['rolling_mean_6h'] = df['price'].rolling(window=6).mean()\n",
    "df['rolling_std_3h'] = df['price'].rolling(window=3).std()"
   ]
  },
  {
   "cell_type": "code",
   "execution_count": 11,
   "id": "ce950c5b",
   "metadata": {},
   "outputs": [],
   "source": [
    "# Step 3: Create next hour's price\n",
    "df['future_price'] = df['price'].shift(-1)"
   ]
  },
  {
   "cell_type": "code",
   "execution_count": 12,
   "id": "fbf4c729",
   "metadata": {},
   "outputs": [],
   "source": [
    "# Step 4: Drop rows with NaNs from rolling calculations \n",
    "df.dropna(inplace=True)"
   ]
  },
  {
   "cell_type": "code",
   "execution_count": 13,
   "id": "4ecd4df4",
   "metadata": {},
   "outputs": [
    {
     "name": "stdout",
     "output_type": "stream",
     "text": [
      "✅ Feature set saved to btc_feature.csv\n"
     ]
    }
   ],
   "source": [
    "# Step 5: Save feature dataset\n",
    "df.to_csv(DATA_PATH / \"btc_feature.csv\")\n",
    "print(\"✅ Feature set saved to btc_feature.csv\")"
   ]
  },
  {
   "cell_type": "code",
   "execution_count": 14,
   "id": "c16c7c76",
   "metadata": {
    "scrolled": true
   },
   "outputs": [
    {
     "data": {
      "text/html": [
       "<div>\n",
       "<style scoped>\n",
       "    .dataframe tbody tr th:only-of-type {\n",
       "        vertical-align: middle;\n",
       "    }\n",
       "\n",
       "    .dataframe tbody tr th {\n",
       "        vertical-align: top;\n",
       "    }\n",
       "\n",
       "    .dataframe thead th {\n",
       "        text-align: right;\n",
       "    }\n",
       "</style>\n",
       "<table border=\"1\" class=\"dataframe\">\n",
       "  <thead>\n",
       "    <tr style=\"text-align: right;\">\n",
       "      <th></th>\n",
       "      <th>price</th>\n",
       "      <th>return_1h</th>\n",
       "      <th>rolling_mean_3h</th>\n",
       "      <th>rolling_mean_6h</th>\n",
       "      <th>rolling_std_3h</th>\n",
       "      <th>future_price</th>\n",
       "    </tr>\n",
       "    <tr>\n",
       "      <th>timestamp</th>\n",
       "      <th></th>\n",
       "      <th></th>\n",
       "      <th></th>\n",
       "      <th></th>\n",
       "      <th></th>\n",
       "      <th></th>\n",
       "    </tr>\n",
       "  </thead>\n",
       "  <tbody>\n",
       "    <tr>\n",
       "      <th>2025-06-14 10:00:00</th>\n",
       "      <td>104657.304688</td>\n",
       "      <td>0.001559</td>\n",
       "      <td>104672.854167</td>\n",
       "      <td>104853.514323</td>\n",
       "      <td>186.701119</td>\n",
       "      <td>104915.703125</td>\n",
       "    </tr>\n",
       "    <tr>\n",
       "      <th>2025-06-14 11:00:00</th>\n",
       "      <td>104915.703125</td>\n",
       "      <td>0.002469</td>\n",
       "      <td>104689.140625</td>\n",
       "      <td>104828.365885</td>\n",
       "      <td>212.441201</td>\n",
       "      <td>104736.453125</td>\n",
       "    </tr>\n",
       "    <tr>\n",
       "      <th>2025-06-14 12:00:00</th>\n",
       "      <td>104736.453125</td>\n",
       "      <td>-0.001709</td>\n",
       "      <td>104769.820312</td>\n",
       "      <td>104772.953125</td>\n",
       "      <td>132.391333</td>\n",
       "      <td>104908.320312</td>\n",
       "    </tr>\n",
       "    <tr>\n",
       "      <th>2025-06-14 13:00:00</th>\n",
       "      <td>104908.320312</td>\n",
       "      <td>0.001641</td>\n",
       "      <td>104853.492188</td>\n",
       "      <td>104763.173177</td>\n",
       "      <td>101.425998</td>\n",
       "      <td>105445.156250</td>\n",
       "    </tr>\n",
       "    <tr>\n",
       "      <th>2025-06-14 14:00:00</th>\n",
       "      <td>105445.156250</td>\n",
       "      <td>0.005117</td>\n",
       "      <td>105029.976562</td>\n",
       "      <td>104859.558594</td>\n",
       "      <td>369.682583</td>\n",
       "      <td>105513.789062</td>\n",
       "    </tr>\n",
       "  </tbody>\n",
       "</table>\n",
       "</div>"
      ],
      "text/plain": [
       "                             price  return_1h  rolling_mean_3h  \\\n",
       "timestamp                                                        \n",
       "2025-06-14 10:00:00  104657.304688   0.001559    104672.854167   \n",
       "2025-06-14 11:00:00  104915.703125   0.002469    104689.140625   \n",
       "2025-06-14 12:00:00  104736.453125  -0.001709    104769.820312   \n",
       "2025-06-14 13:00:00  104908.320312   0.001641    104853.492188   \n",
       "2025-06-14 14:00:00  105445.156250   0.005117    105029.976562   \n",
       "\n",
       "                     rolling_mean_6h  rolling_std_3h   future_price  \n",
       "timestamp                                                            \n",
       "2025-06-14 10:00:00    104853.514323      186.701119  104915.703125  \n",
       "2025-06-14 11:00:00    104828.365885      212.441201  104736.453125  \n",
       "2025-06-14 12:00:00    104772.953125      132.391333  104908.320312  \n",
       "2025-06-14 13:00:00    104763.173177      101.425998  105445.156250  \n",
       "2025-06-14 14:00:00    104859.558594      369.682583  105513.789062  "
      ]
     },
     "execution_count": 14,
     "metadata": {},
     "output_type": "execute_result"
    }
   ],
   "source": [
    "df.tail()"
   ]
  },
  {
   "cell_type": "code",
   "execution_count": null,
   "id": "a61faaa0",
   "metadata": {},
   "outputs": [],
   "source": []
  }
 ],
 "metadata": {
  "kernelspec": {
   "display_name": "streamlit-env",
   "language": "python",
   "name": "python3"
  },
  "language_info": {
   "codemirror_mode": {
    "name": "ipython",
    "version": 3
   },
   "file_extension": ".py",
   "mimetype": "text/x-python",
   "name": "python",
   "nbconvert_exporter": "python",
   "pygments_lexer": "ipython3",
   "version": "3.10.18"
  },
  "toc": {
   "base_numbering": 1,
   "nav_menu": {},
   "number_sections": true,
   "sideBar": true,
   "skip_h1_title": false,
   "title_cell": "Table of Contents",
   "title_sidebar": "Contents",
   "toc_cell": false,
   "toc_position": {},
   "toc_section_display": true,
   "toc_window_display": false
  },
  "varInspector": {
   "cols": {
    "lenName": 16,
    "lenType": 16,
    "lenVar": 40
   },
   "kernels_config": {
    "python": {
     "delete_cmd_postfix": "",
     "delete_cmd_prefix": "del ",
     "library": "var_list.py",
     "varRefreshCmd": "print(var_dic_list())"
    },
    "r": {
     "delete_cmd_postfix": ") ",
     "delete_cmd_prefix": "rm(",
     "library": "var_list.r",
     "varRefreshCmd": "cat(var_dic_list()) "
    }
   },
   "types_to_exclude": [
    "module",
    "function",
    "builtin_function_or_method",
    "instance",
    "_Feature"
   ],
   "window_display": false
  }
 },
 "nbformat": 4,
 "nbformat_minor": 5
}
