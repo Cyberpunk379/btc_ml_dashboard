{
 "cells": [
  {
   "cell_type": "code",
   "execution_count": 5,
   "id": "77e954ea",
   "metadata": {
    "code_folding": []
   },
   "outputs": [
    {
     "data": {
      "text/html": [
       "<div>\n",
       "<style scoped>\n",
       "    .dataframe tbody tr th:only-of-type {\n",
       "        vertical-align: middle;\n",
       "    }\n",
       "\n",
       "    .dataframe tbody tr th {\n",
       "        vertical-align: top;\n",
       "    }\n",
       "\n",
       "    .dataframe thead th {\n",
       "        text-align: right;\n",
       "    }\n",
       "</style>\n",
       "<table border=\"1\" class=\"dataframe\">\n",
       "  <thead>\n",
       "    <tr style=\"text-align: right;\">\n",
       "      <th></th>\n",
       "      <th>Open</th>\n",
       "      <th>High</th>\n",
       "      <th>Low</th>\n",
       "      <th>Close</th>\n",
       "      <th>Volume</th>\n",
       "      <th>Dividends</th>\n",
       "      <th>Stock Splits</th>\n",
       "    </tr>\n",
       "    <tr>\n",
       "      <th>Datetime</th>\n",
       "      <th></th>\n",
       "      <th></th>\n",
       "      <th></th>\n",
       "      <th></th>\n",
       "      <th></th>\n",
       "      <th></th>\n",
       "      <th></th>\n",
       "    </tr>\n",
       "  </thead>\n",
       "  <tbody>\n",
       "    <tr>\n",
       "      <th>2025-06-07 17:00:00</th>\n",
       "      <td>105633.796875</td>\n",
       "      <td>105685.078125</td>\n",
       "      <td>105507.710938</td>\n",
       "      <td>105521.320312</td>\n",
       "      <td>0</td>\n",
       "      <td>0.0</td>\n",
       "      <td>0.0</td>\n",
       "    </tr>\n",
       "    <tr>\n",
       "      <th>2025-06-07 18:00:00</th>\n",
       "      <td>105527.281250</td>\n",
       "      <td>105804.617188</td>\n",
       "      <td>105471.726562</td>\n",
       "      <td>105753.312500</td>\n",
       "      <td>1065693184</td>\n",
       "      <td>0.0</td>\n",
       "      <td>0.0</td>\n",
       "    </tr>\n",
       "    <tr>\n",
       "      <th>2025-06-07 19:00:00</th>\n",
       "      <td>105754.171875</td>\n",
       "      <td>105754.171875</td>\n",
       "      <td>105540.976562</td>\n",
       "      <td>105540.976562</td>\n",
       "      <td>0</td>\n",
       "      <td>0.0</td>\n",
       "      <td>0.0</td>\n",
       "    </tr>\n",
       "    <tr>\n",
       "      <th>2025-06-07 20:00:00</th>\n",
       "      <td>105536.968750</td>\n",
       "      <td>105552.632812</td>\n",
       "      <td>105461.281250</td>\n",
       "      <td>105543.210938</td>\n",
       "      <td>0</td>\n",
       "      <td>0.0</td>\n",
       "      <td>0.0</td>\n",
       "    </tr>\n",
       "    <tr>\n",
       "      <th>2025-06-07 21:00:00</th>\n",
       "      <td>105545.046875</td>\n",
       "      <td>105678.937500</td>\n",
       "      <td>105476.328125</td>\n",
       "      <td>105651.523438</td>\n",
       "      <td>0</td>\n",
       "      <td>0.0</td>\n",
       "      <td>0.0</td>\n",
       "    </tr>\n",
       "  </tbody>\n",
       "</table>\n",
       "</div>"
      ],
      "text/plain": [
       "                              Open           High            Low  \\\n",
       "Datetime                                                           \n",
       "2025-06-07 17:00:00  105633.796875  105685.078125  105507.710938   \n",
       "2025-06-07 18:00:00  105527.281250  105804.617188  105471.726562   \n",
       "2025-06-07 19:00:00  105754.171875  105754.171875  105540.976562   \n",
       "2025-06-07 20:00:00  105536.968750  105552.632812  105461.281250   \n",
       "2025-06-07 21:00:00  105545.046875  105678.937500  105476.328125   \n",
       "\n",
       "                             Close      Volume  Dividends  Stock Splits  \n",
       "Datetime                                                                 \n",
       "2025-06-07 17:00:00  105521.320312           0        0.0           0.0  \n",
       "2025-06-07 18:00:00  105753.312500  1065693184        0.0           0.0  \n",
       "2025-06-07 19:00:00  105540.976562           0        0.0           0.0  \n",
       "2025-06-07 20:00:00  105543.210938           0        0.0           0.0  \n",
       "2025-06-07 21:00:00  105651.523438           0        0.0           0.0  "
      ]
     },
     "execution_count": 5,
     "metadata": {},
     "output_type": "execute_result"
    }
   ],
   "source": [
    "# pipeline injestion_transform.py\n",
    "from pathlib import Path\n",
    "import yfinance as yf\n",
    "import pandas as pd\n",
    "\n",
    "# --- Safe path for GitHub or Streamlit deployment ---\n",
    "BASE_DIR = Path().resolve().parent  # adjust `.parent` depending on notebook location\n",
    "DATA_PATH = BASE_DIR / \"data\"\n",
    "DATA_PATH.mkdir(exist_ok=True)\n",
    "\n",
    "\n",
    "\n",
    "# Step 1: Fetch data from Yahoo Finance \n",
    "btc_tick = yf.Ticker(\"BTC-USD\")\n",
    "hist = btc_tick.history(interval= '1h', period= '7d') # 7days of hourly data\n",
    "\n",
    "# Convert index from UTC to local time (e.g., US/Pacific)\n",
    "hist.index = hist.index.tz_convert('US/Pacific').tz_localize(None)\n",
    "\n",
    "hist.head()"
   ]
  },
  {
   "cell_type": "code",
   "execution_count": null,
   "id": "65d33921",
   "metadata": {},
   "outputs": [],
   "source": []
  },
  {
   "cell_type": "code",
   "execution_count": 6,
   "id": "645344fe",
   "metadata": {},
   "outputs": [
    {
     "name": "stderr",
     "output_type": "stream",
     "text": [
      "/var/folders/zh/n835cjwn06s8mgkq7j7c8hj80000gn/T/ipykernel_5774/3897577257.py:4: SettingWithCopyWarning: \n",
      "A value is trying to be set on a copy of a slice from a DataFrame\n",
      "\n",
      "See the caveats in the documentation: https://pandas.pydata.org/pandas-docs/stable/user_guide/indexing.html#returning-a-view-versus-a-copy\n",
      "  btc.rename(columns={\"Datetime\": \"timestamp\", \"Close\" : \"price\"}, inplace=True)\n"
     ]
    },
    {
     "data": {
      "text/html": [
       "<div>\n",
       "<style scoped>\n",
       "    .dataframe tbody tr th:only-of-type {\n",
       "        vertical-align: middle;\n",
       "    }\n",
       "\n",
       "    .dataframe tbody tr th {\n",
       "        vertical-align: top;\n",
       "    }\n",
       "\n",
       "    .dataframe thead th {\n",
       "        text-align: right;\n",
       "    }\n",
       "</style>\n",
       "<table border=\"1\" class=\"dataframe\">\n",
       "  <thead>\n",
       "    <tr style=\"text-align: right;\">\n",
       "      <th></th>\n",
       "      <th>price</th>\n",
       "    </tr>\n",
       "    <tr>\n",
       "      <th>timestamp</th>\n",
       "      <th></th>\n",
       "    </tr>\n",
       "  </thead>\n",
       "  <tbody>\n",
       "    <tr>\n",
       "      <th>2025-06-07 17:00:00</th>\n",
       "      <td>105521.320312</td>\n",
       "    </tr>\n",
       "    <tr>\n",
       "      <th>2025-06-07 18:00:00</th>\n",
       "      <td>105753.312500</td>\n",
       "    </tr>\n",
       "    <tr>\n",
       "      <th>2025-06-07 19:00:00</th>\n",
       "      <td>105540.976562</td>\n",
       "    </tr>\n",
       "    <tr>\n",
       "      <th>2025-06-07 20:00:00</th>\n",
       "      <td>105543.210938</td>\n",
       "    </tr>\n",
       "    <tr>\n",
       "      <th>2025-06-07 21:00:00</th>\n",
       "      <td>105651.523438</td>\n",
       "    </tr>\n",
       "  </tbody>\n",
       "</table>\n",
       "</div>"
      ],
      "text/plain": [
       "                             price\n",
       "timestamp                         \n",
       "2025-06-07 17:00:00  105521.320312\n",
       "2025-06-07 18:00:00  105753.312500\n",
       "2025-06-07 19:00:00  105540.976562\n",
       "2025-06-07 20:00:00  105543.210938\n",
       "2025-06-07 21:00:00  105651.523438"
      ]
     },
     "execution_count": 6,
     "metadata": {},
     "output_type": "execute_result"
    }
   ],
   "source": [
    "# Reset and rename\n",
    "hist = hist.reset_index()\n",
    "btc = hist[[\"Datetime\", \"Close\"]]\n",
    "btc.rename(columns={\"Datetime\": \"timestamp\", \"Close\" : \"price\"}, inplace=True)\n",
    "btc.set_index(\"timestamp\", inplace=True)\n",
    "\n",
    "btc.head()"
   ]
  },
  {
   "cell_type": "code",
   "execution_count": 7,
   "id": "3db05f85",
   "metadata": {
    "scrolled": true
   },
   "outputs": [
    {
     "name": "stdout",
     "output_type": "stream",
     "text": [
      "✅ BTC hourly price saved to data/btc_hourly_yf.csv\n"
     ]
    }
   ],
   "source": [
    "btc.to_csv(DATA_PATH / \"btc_hourly_yf.csv\", index=True)\n",
    "print(\"✅ BTC hourly price saved to data/btc_hourly_yf.csv\")"
   ]
  },
  {
   "cell_type": "code",
   "execution_count": 8,
   "id": "9da3bbd7",
   "metadata": {},
   "outputs": [
    {
     "data": {
      "text/html": [
       "<div>\n",
       "<style scoped>\n",
       "    .dataframe tbody tr th:only-of-type {\n",
       "        vertical-align: middle;\n",
       "    }\n",
       "\n",
       "    .dataframe tbody tr th {\n",
       "        vertical-align: top;\n",
       "    }\n",
       "\n",
       "    .dataframe thead th {\n",
       "        text-align: right;\n",
       "    }\n",
       "</style>\n",
       "<table border=\"1\" class=\"dataframe\">\n",
       "  <thead>\n",
       "    <tr style=\"text-align: right;\">\n",
       "      <th></th>\n",
       "      <th>price</th>\n",
       "    </tr>\n",
       "    <tr>\n",
       "      <th>timestamp</th>\n",
       "      <th></th>\n",
       "    </tr>\n",
       "  </thead>\n",
       "  <tbody>\n",
       "    <tr>\n",
       "      <th>2025-06-14 11:00:00</th>\n",
       "      <td>104915.703125</td>\n",
       "    </tr>\n",
       "    <tr>\n",
       "      <th>2025-06-14 12:00:00</th>\n",
       "      <td>104736.453125</td>\n",
       "    </tr>\n",
       "    <tr>\n",
       "      <th>2025-06-14 13:00:00</th>\n",
       "      <td>104908.320312</td>\n",
       "    </tr>\n",
       "    <tr>\n",
       "      <th>2025-06-14 14:00:00</th>\n",
       "      <td>105445.156250</td>\n",
       "    </tr>\n",
       "    <tr>\n",
       "      <th>2025-06-14 15:00:00</th>\n",
       "      <td>105513.789062</td>\n",
       "    </tr>\n",
       "  </tbody>\n",
       "</table>\n",
       "</div>"
      ],
      "text/plain": [
       "                             price\n",
       "timestamp                         \n",
       "2025-06-14 11:00:00  104915.703125\n",
       "2025-06-14 12:00:00  104736.453125\n",
       "2025-06-14 13:00:00  104908.320312\n",
       "2025-06-14 14:00:00  105445.156250\n",
       "2025-06-14 15:00:00  105513.789062"
      ]
     },
     "execution_count": 8,
     "metadata": {},
     "output_type": "execute_result"
    }
   ],
   "source": [
    "btc.tail()"
   ]
  }
 ],
 "metadata": {
  "kernelspec": {
   "display_name": "streamlit-env",
   "language": "python",
   "name": "python3"
  },
  "language_info": {
   "codemirror_mode": {
    "name": "ipython",
    "version": 3
   },
   "file_extension": ".py",
   "mimetype": "text/x-python",
   "name": "python",
   "nbconvert_exporter": "python",
   "pygments_lexer": "ipython3",
   "version": "3.10.18"
  },
  "toc": {
   "base_numbering": 1,
   "nav_menu": {},
   "number_sections": true,
   "sideBar": true,
   "skip_h1_title": false,
   "title_cell": "Table of Contents",
   "title_sidebar": "Contents",
   "toc_cell": false,
   "toc_position": {},
   "toc_section_display": true,
   "toc_window_display": false
  },
  "varInspector": {
   "cols": {
    "lenName": 16,
    "lenType": 16,
    "lenVar": 40
   },
   "kernels_config": {
    "python": {
     "delete_cmd_postfix": "",
     "delete_cmd_prefix": "del ",
     "library": "var_list.py",
     "varRefreshCmd": "print(var_dic_list())"
    },
    "r": {
     "delete_cmd_postfix": ") ",
     "delete_cmd_prefix": "rm(",
     "library": "var_list.r",
     "varRefreshCmd": "cat(var_dic_list()) "
    }
   },
   "types_to_exclude": [
    "module",
    "function",
    "builtin_function_or_method",
    "instance",
    "_Feature"
   ],
   "window_display": false
  }
 },
 "nbformat": 4,
 "nbformat_minor": 5
}
